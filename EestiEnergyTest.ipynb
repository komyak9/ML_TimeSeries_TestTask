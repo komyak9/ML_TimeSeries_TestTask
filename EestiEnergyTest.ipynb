{
  "nbformat": 4,
  "nbformat_minor": 0,
  "metadata": {
    "colab": {
      "provenance": []
    },
    "kernelspec": {
      "name": "python3",
      "display_name": "Python 3"
    },
    "language_info": {
      "name": "python"
    }
  },
  "cells": [
    {
      "cell_type": "markdown",
      "source": [
        "# TEST\n",
        "\n",
        "## Yuliia Siur\n",
        "\n",
        "### 05.04.2023\n",
        "\n",
        "### TASK:\n",
        "\n",
        "Electric Vehicles (EVs) will be a game changer for the electricity industry. On the one hand, we’ll see a rise in electricity consumption. On the other hand, EV batteries could be used to store the green energy. In both cases, we need a good solution to predict the behavior of electric vehicles.\n",
        "\n",
        "The goal of the project is to develop a prototype for predicting the charging behavior of EV.\n",
        "\n",
        "Tasks and starting points\n",
        "\n",
        "You’ll receive the following datasets:\n",
        "Simulated data of 100 electric vehicles that includes information about each EV and the hourly data about the state-of-charge for 1-month period.\n"
      ],
      "metadata": {
        "id": "w4tqGyn1zn-r"
      }
    },
    {
      "cell_type": "markdown",
      "source": [
        "time -- hour of day.\n",
        "\n",
        "model -- EV model.\n",
        "\n",
        "connected -- whether the EV is connected to the charger or not.\n",
        "\n",
        "soc -- state-of-charge in kWh (how much energy is in the battery) at the beginning of the ‘time’.\n",
        "\n",
        "days -- the day of the month (1:30).\n",
        "\n",
        "cadaster -- cadaster unit number where the ev was last connected (public charger or home location).\n",
        "\n",
        "ev_id -- the identificator of ev.\n"
      ],
      "metadata": {
        "id": "mwaFdSRf0AWg"
      }
    },
    {
      "cell_type": "markdown",
      "source": [
        "##Prepare the dataset for time-series analysis\n"
      ],
      "metadata": {
        "id": "At6DZdaxztTu"
      }
    },
    {
      "cell_type": "code",
      "execution_count": null,
      "metadata": {
        "id": "NWv1l5lvzPy2"
      },
      "outputs": [],
      "source": [
        "import pandas as pd\n",
        "import numpy as np\n",
        "from matplotlib import pyplot as plt"
      ]
    },
    {
      "cell_type": "code",
      "source": [
        "# reading data\n",
        "df = pd.read_csv('ev_long_history.csv')\n",
        "df"
      ],
      "metadata": {
        "colab": {
          "base_uri": "https://localhost:8080/",
          "height": 423
        },
        "id": "VUy1qdiRzbib",
        "outputId": "cfe70525-f816-4fff-a524-14c87045acb0"
      },
      "execution_count": null,
      "outputs": [
        {
          "output_type": "execute_result",
          "data": {
            "text/plain": [
              "       Unnamed: 0  time           model  connected    soc  days  \\\n",
              "0               0     1  Nissan Leaf e+       True  36.25     1   \n",
              "1               1     2  Nissan Leaf e+       True  42.85     1   \n",
              "2               2     3  Nissan Leaf e+       True  49.45     1   \n",
              "3               3     4  Nissan Leaf e+       True  56.00     1   \n",
              "4               4     5  Nissan Leaf e+       True  56.00     1   \n",
              "...           ...   ...             ...        ...    ...   ...   \n",
              "71995         715    20   Tesla Model S       True  72.50    30   \n",
              "71996         716    21   Tesla Model S       True  72.50    30   \n",
              "71997         717    22   Tesla Model S       True  72.50    30   \n",
              "71998         718    23   Tesla Model S       True  72.50    30   \n",
              "71999         719    24   Tesla Model S       True  72.50    30   \n",
              "\n",
              "             cadaster  ev_id  \n",
              "0      79514:037:0033      0  \n",
              "1      79514:037:0033      0  \n",
              "2      79514:037:0033      0  \n",
              "3      79514:037:0033      0  \n",
              "4      79514:037:0033      0  \n",
              "...               ...    ...  \n",
              "71995  79512:006:0023     99  \n",
              "71996  79512:006:0023     99  \n",
              "71997  79512:006:0023     99  \n",
              "71998  79512:006:0023     99  \n",
              "71999  79512:006:0023     99  \n",
              "\n",
              "[72000 rows x 8 columns]"
            ],
            "text/html": [
              "\n",
              "  <div id=\"df-c95bdeda-d81f-4112-bbb7-e1cc8a781cf1\">\n",
              "    <div class=\"colab-df-container\">\n",
              "      <div>\n",
              "<style scoped>\n",
              "    .dataframe tbody tr th:only-of-type {\n",
              "        vertical-align: middle;\n",
              "    }\n",
              "\n",
              "    .dataframe tbody tr th {\n",
              "        vertical-align: top;\n",
              "    }\n",
              "\n",
              "    .dataframe thead th {\n",
              "        text-align: right;\n",
              "    }\n",
              "</style>\n",
              "<table border=\"1\" class=\"dataframe\">\n",
              "  <thead>\n",
              "    <tr style=\"text-align: right;\">\n",
              "      <th></th>\n",
              "      <th>Unnamed: 0</th>\n",
              "      <th>time</th>\n",
              "      <th>model</th>\n",
              "      <th>connected</th>\n",
              "      <th>soc</th>\n",
              "      <th>days</th>\n",
              "      <th>cadaster</th>\n",
              "      <th>ev_id</th>\n",
              "    </tr>\n",
              "  </thead>\n",
              "  <tbody>\n",
              "    <tr>\n",
              "      <th>0</th>\n",
              "      <td>0</td>\n",
              "      <td>1</td>\n",
              "      <td>Nissan Leaf e+</td>\n",
              "      <td>True</td>\n",
              "      <td>36.25</td>\n",
              "      <td>1</td>\n",
              "      <td>79514:037:0033</td>\n",
              "      <td>0</td>\n",
              "    </tr>\n",
              "    <tr>\n",
              "      <th>1</th>\n",
              "      <td>1</td>\n",
              "      <td>2</td>\n",
              "      <td>Nissan Leaf e+</td>\n",
              "      <td>True</td>\n",
              "      <td>42.85</td>\n",
              "      <td>1</td>\n",
              "      <td>79514:037:0033</td>\n",
              "      <td>0</td>\n",
              "    </tr>\n",
              "    <tr>\n",
              "      <th>2</th>\n",
              "      <td>2</td>\n",
              "      <td>3</td>\n",
              "      <td>Nissan Leaf e+</td>\n",
              "      <td>True</td>\n",
              "      <td>49.45</td>\n",
              "      <td>1</td>\n",
              "      <td>79514:037:0033</td>\n",
              "      <td>0</td>\n",
              "    </tr>\n",
              "    <tr>\n",
              "      <th>3</th>\n",
              "      <td>3</td>\n",
              "      <td>4</td>\n",
              "      <td>Nissan Leaf e+</td>\n",
              "      <td>True</td>\n",
              "      <td>56.00</td>\n",
              "      <td>1</td>\n",
              "      <td>79514:037:0033</td>\n",
              "      <td>0</td>\n",
              "    </tr>\n",
              "    <tr>\n",
              "      <th>4</th>\n",
              "      <td>4</td>\n",
              "      <td>5</td>\n",
              "      <td>Nissan Leaf e+</td>\n",
              "      <td>True</td>\n",
              "      <td>56.00</td>\n",
              "      <td>1</td>\n",
              "      <td>79514:037:0033</td>\n",
              "      <td>0</td>\n",
              "    </tr>\n",
              "    <tr>\n",
              "      <th>...</th>\n",
              "      <td>...</td>\n",
              "      <td>...</td>\n",
              "      <td>...</td>\n",
              "      <td>...</td>\n",
              "      <td>...</td>\n",
              "      <td>...</td>\n",
              "      <td>...</td>\n",
              "      <td>...</td>\n",
              "    </tr>\n",
              "    <tr>\n",
              "      <th>71995</th>\n",
              "      <td>715</td>\n",
              "      <td>20</td>\n",
              "      <td>Tesla Model S</td>\n",
              "      <td>True</td>\n",
              "      <td>72.50</td>\n",
              "      <td>30</td>\n",
              "      <td>79512:006:0023</td>\n",
              "      <td>99</td>\n",
              "    </tr>\n",
              "    <tr>\n",
              "      <th>71996</th>\n",
              "      <td>716</td>\n",
              "      <td>21</td>\n",
              "      <td>Tesla Model S</td>\n",
              "      <td>True</td>\n",
              "      <td>72.50</td>\n",
              "      <td>30</td>\n",
              "      <td>79512:006:0023</td>\n",
              "      <td>99</td>\n",
              "    </tr>\n",
              "    <tr>\n",
              "      <th>71997</th>\n",
              "      <td>717</td>\n",
              "      <td>22</td>\n",
              "      <td>Tesla Model S</td>\n",
              "      <td>True</td>\n",
              "      <td>72.50</td>\n",
              "      <td>30</td>\n",
              "      <td>79512:006:0023</td>\n",
              "      <td>99</td>\n",
              "    </tr>\n",
              "    <tr>\n",
              "      <th>71998</th>\n",
              "      <td>718</td>\n",
              "      <td>23</td>\n",
              "      <td>Tesla Model S</td>\n",
              "      <td>True</td>\n",
              "      <td>72.50</td>\n",
              "      <td>30</td>\n",
              "      <td>79512:006:0023</td>\n",
              "      <td>99</td>\n",
              "    </tr>\n",
              "    <tr>\n",
              "      <th>71999</th>\n",
              "      <td>719</td>\n",
              "      <td>24</td>\n",
              "      <td>Tesla Model S</td>\n",
              "      <td>True</td>\n",
              "      <td>72.50</td>\n",
              "      <td>30</td>\n",
              "      <td>79512:006:0023</td>\n",
              "      <td>99</td>\n",
              "    </tr>\n",
              "  </tbody>\n",
              "</table>\n",
              "<p>72000 rows × 8 columns</p>\n",
              "</div>\n",
              "      <button class=\"colab-df-convert\" onclick=\"convertToInteractive('df-c95bdeda-d81f-4112-bbb7-e1cc8a781cf1')\"\n",
              "              title=\"Convert this dataframe to an interactive table.\"\n",
              "              style=\"display:none;\">\n",
              "        \n",
              "  <svg xmlns=\"http://www.w3.org/2000/svg\" height=\"24px\"viewBox=\"0 0 24 24\"\n",
              "       width=\"24px\">\n",
              "    <path d=\"M0 0h24v24H0V0z\" fill=\"none\"/>\n",
              "    <path d=\"M18.56 5.44l.94 2.06.94-2.06 2.06-.94-2.06-.94-.94-2.06-.94 2.06-2.06.94zm-11 1L8.5 8.5l.94-2.06 2.06-.94-2.06-.94L8.5 2.5l-.94 2.06-2.06.94zm10 10l.94 2.06.94-2.06 2.06-.94-2.06-.94-.94-2.06-.94 2.06-2.06.94z\"/><path d=\"M17.41 7.96l-1.37-1.37c-.4-.4-.92-.59-1.43-.59-.52 0-1.04.2-1.43.59L10.3 9.45l-7.72 7.72c-.78.78-.78 2.05 0 2.83L4 21.41c.39.39.9.59 1.41.59.51 0 1.02-.2 1.41-.59l7.78-7.78 2.81-2.81c.8-.78.8-2.07 0-2.86zM5.41 20L4 18.59l7.72-7.72 1.47 1.35L5.41 20z\"/>\n",
              "  </svg>\n",
              "      </button>\n",
              "      \n",
              "  <style>\n",
              "    .colab-df-container {\n",
              "      display:flex;\n",
              "      flex-wrap:wrap;\n",
              "      gap: 12px;\n",
              "    }\n",
              "\n",
              "    .colab-df-convert {\n",
              "      background-color: #E8F0FE;\n",
              "      border: none;\n",
              "      border-radius: 50%;\n",
              "      cursor: pointer;\n",
              "      display: none;\n",
              "      fill: #1967D2;\n",
              "      height: 32px;\n",
              "      padding: 0 0 0 0;\n",
              "      width: 32px;\n",
              "    }\n",
              "\n",
              "    .colab-df-convert:hover {\n",
              "      background-color: #E2EBFA;\n",
              "      box-shadow: 0px 1px 2px rgba(60, 64, 67, 0.3), 0px 1px 3px 1px rgba(60, 64, 67, 0.15);\n",
              "      fill: #174EA6;\n",
              "    }\n",
              "\n",
              "    [theme=dark] .colab-df-convert {\n",
              "      background-color: #3B4455;\n",
              "      fill: #D2E3FC;\n",
              "    }\n",
              "\n",
              "    [theme=dark] .colab-df-convert:hover {\n",
              "      background-color: #434B5C;\n",
              "      box-shadow: 0px 1px 3px 1px rgba(0, 0, 0, 0.15);\n",
              "      filter: drop-shadow(0px 1px 2px rgba(0, 0, 0, 0.3));\n",
              "      fill: #FFFFFF;\n",
              "    }\n",
              "  </style>\n",
              "\n",
              "      <script>\n",
              "        const buttonEl =\n",
              "          document.querySelector('#df-c95bdeda-d81f-4112-bbb7-e1cc8a781cf1 button.colab-df-convert');\n",
              "        buttonEl.style.display =\n",
              "          google.colab.kernel.accessAllowed ? 'block' : 'none';\n",
              "\n",
              "        async function convertToInteractive(key) {\n",
              "          const element = document.querySelector('#df-c95bdeda-d81f-4112-bbb7-e1cc8a781cf1');\n",
              "          const dataTable =\n",
              "            await google.colab.kernel.invokeFunction('convertToInteractive',\n",
              "                                                     [key], {});\n",
              "          if (!dataTable) return;\n",
              "\n",
              "          const docLinkHtml = 'Like what you see? Visit the ' +\n",
              "            '<a target=\"_blank\" href=https://colab.research.google.com/notebooks/data_table.ipynb>data table notebook</a>'\n",
              "            + ' to learn more about interactive tables.';\n",
              "          element.innerHTML = '';\n",
              "          dataTable['output_type'] = 'display_data';\n",
              "          await google.colab.output.renderOutput(dataTable, element);\n",
              "          const docLink = document.createElement('div');\n",
              "          docLink.innerHTML = docLinkHtml;\n",
              "          element.appendChild(docLink);\n",
              "        }\n",
              "      </script>\n",
              "    </div>\n",
              "  </div>\n",
              "  "
            ]
          },
          "metadata": {},
          "execution_count": 2
        }
      ]
    },
    {
      "cell_type": "markdown",
      "source": [
        "Remove unnecessary data such as vehicle ids: but, taken in consideration while splitting into training and test groups (since data from one car as train data can't use another car data as train labels - more detailed later). "
      ],
      "metadata": {
        "id": "RVFTSoGnhTyu"
      }
    },
    {
      "cell_type": "code",
      "source": [
        "df = df[['time', 'days', 'soc']]\n",
        "df"
      ],
      "metadata": {
        "colab": {
          "base_uri": "https://localhost:8080/",
          "height": 423
        },
        "id": "Kle7kuu22N_s",
        "outputId": "951a4331-821d-411c-adc8-69519e6b7ec5"
      },
      "execution_count": null,
      "outputs": [
        {
          "output_type": "execute_result",
          "data": {
            "text/plain": [
              "       time  days    soc\n",
              "0         1     1  36.25\n",
              "1         2     1  42.85\n",
              "2         3     1  49.45\n",
              "3         4     1  56.00\n",
              "4         5     1  56.00\n",
              "...     ...   ...    ...\n",
              "71995    20    30  72.50\n",
              "71996    21    30  72.50\n",
              "71997    22    30  72.50\n",
              "71998    23    30  72.50\n",
              "71999    24    30  72.50\n",
              "\n",
              "[72000 rows x 3 columns]"
            ],
            "text/html": [
              "\n",
              "  <div id=\"df-cb08bdf0-eac7-4423-ba83-fe40b083d4a3\">\n",
              "    <div class=\"colab-df-container\">\n",
              "      <div>\n",
              "<style scoped>\n",
              "    .dataframe tbody tr th:only-of-type {\n",
              "        vertical-align: middle;\n",
              "    }\n",
              "\n",
              "    .dataframe tbody tr th {\n",
              "        vertical-align: top;\n",
              "    }\n",
              "\n",
              "    .dataframe thead th {\n",
              "        text-align: right;\n",
              "    }\n",
              "</style>\n",
              "<table border=\"1\" class=\"dataframe\">\n",
              "  <thead>\n",
              "    <tr style=\"text-align: right;\">\n",
              "      <th></th>\n",
              "      <th>time</th>\n",
              "      <th>days</th>\n",
              "      <th>soc</th>\n",
              "    </tr>\n",
              "  </thead>\n",
              "  <tbody>\n",
              "    <tr>\n",
              "      <th>0</th>\n",
              "      <td>1</td>\n",
              "      <td>1</td>\n",
              "      <td>36.25</td>\n",
              "    </tr>\n",
              "    <tr>\n",
              "      <th>1</th>\n",
              "      <td>2</td>\n",
              "      <td>1</td>\n",
              "      <td>42.85</td>\n",
              "    </tr>\n",
              "    <tr>\n",
              "      <th>2</th>\n",
              "      <td>3</td>\n",
              "      <td>1</td>\n",
              "      <td>49.45</td>\n",
              "    </tr>\n",
              "    <tr>\n",
              "      <th>3</th>\n",
              "      <td>4</td>\n",
              "      <td>1</td>\n",
              "      <td>56.00</td>\n",
              "    </tr>\n",
              "    <tr>\n",
              "      <th>4</th>\n",
              "      <td>5</td>\n",
              "      <td>1</td>\n",
              "      <td>56.00</td>\n",
              "    </tr>\n",
              "    <tr>\n",
              "      <th>...</th>\n",
              "      <td>...</td>\n",
              "      <td>...</td>\n",
              "      <td>...</td>\n",
              "    </tr>\n",
              "    <tr>\n",
              "      <th>71995</th>\n",
              "      <td>20</td>\n",
              "      <td>30</td>\n",
              "      <td>72.50</td>\n",
              "    </tr>\n",
              "    <tr>\n",
              "      <th>71996</th>\n",
              "      <td>21</td>\n",
              "      <td>30</td>\n",
              "      <td>72.50</td>\n",
              "    </tr>\n",
              "    <tr>\n",
              "      <th>71997</th>\n",
              "      <td>22</td>\n",
              "      <td>30</td>\n",
              "      <td>72.50</td>\n",
              "    </tr>\n",
              "    <tr>\n",
              "      <th>71998</th>\n",
              "      <td>23</td>\n",
              "      <td>30</td>\n",
              "      <td>72.50</td>\n",
              "    </tr>\n",
              "    <tr>\n",
              "      <th>71999</th>\n",
              "      <td>24</td>\n",
              "      <td>30</td>\n",
              "      <td>72.50</td>\n",
              "    </tr>\n",
              "  </tbody>\n",
              "</table>\n",
              "<p>72000 rows × 3 columns</p>\n",
              "</div>\n",
              "      <button class=\"colab-df-convert\" onclick=\"convertToInteractive('df-cb08bdf0-eac7-4423-ba83-fe40b083d4a3')\"\n",
              "              title=\"Convert this dataframe to an interactive table.\"\n",
              "              style=\"display:none;\">\n",
              "        \n",
              "  <svg xmlns=\"http://www.w3.org/2000/svg\" height=\"24px\"viewBox=\"0 0 24 24\"\n",
              "       width=\"24px\">\n",
              "    <path d=\"M0 0h24v24H0V0z\" fill=\"none\"/>\n",
              "    <path d=\"M18.56 5.44l.94 2.06.94-2.06 2.06-.94-2.06-.94-.94-2.06-.94 2.06-2.06.94zm-11 1L8.5 8.5l.94-2.06 2.06-.94-2.06-.94L8.5 2.5l-.94 2.06-2.06.94zm10 10l.94 2.06.94-2.06 2.06-.94-2.06-.94-.94-2.06-.94 2.06-2.06.94z\"/><path d=\"M17.41 7.96l-1.37-1.37c-.4-.4-.92-.59-1.43-.59-.52 0-1.04.2-1.43.59L10.3 9.45l-7.72 7.72c-.78.78-.78 2.05 0 2.83L4 21.41c.39.39.9.59 1.41.59.51 0 1.02-.2 1.41-.59l7.78-7.78 2.81-2.81c.8-.78.8-2.07 0-2.86zM5.41 20L4 18.59l7.72-7.72 1.47 1.35L5.41 20z\"/>\n",
              "  </svg>\n",
              "      </button>\n",
              "      \n",
              "  <style>\n",
              "    .colab-df-container {\n",
              "      display:flex;\n",
              "      flex-wrap:wrap;\n",
              "      gap: 12px;\n",
              "    }\n",
              "\n",
              "    .colab-df-convert {\n",
              "      background-color: #E8F0FE;\n",
              "      border: none;\n",
              "      border-radius: 50%;\n",
              "      cursor: pointer;\n",
              "      display: none;\n",
              "      fill: #1967D2;\n",
              "      height: 32px;\n",
              "      padding: 0 0 0 0;\n",
              "      width: 32px;\n",
              "    }\n",
              "\n",
              "    .colab-df-convert:hover {\n",
              "      background-color: #E2EBFA;\n",
              "      box-shadow: 0px 1px 2px rgba(60, 64, 67, 0.3), 0px 1px 3px 1px rgba(60, 64, 67, 0.15);\n",
              "      fill: #174EA6;\n",
              "    }\n",
              "\n",
              "    [theme=dark] .colab-df-convert {\n",
              "      background-color: #3B4455;\n",
              "      fill: #D2E3FC;\n",
              "    }\n",
              "\n",
              "    [theme=dark] .colab-df-convert:hover {\n",
              "      background-color: #434B5C;\n",
              "      box-shadow: 0px 1px 3px 1px rgba(0, 0, 0, 0.15);\n",
              "      filter: drop-shadow(0px 1px 2px rgba(0, 0, 0, 0.3));\n",
              "      fill: #FFFFFF;\n",
              "    }\n",
              "  </style>\n",
              "\n",
              "      <script>\n",
              "        const buttonEl =\n",
              "          document.querySelector('#df-cb08bdf0-eac7-4423-ba83-fe40b083d4a3 button.colab-df-convert');\n",
              "        buttonEl.style.display =\n",
              "          google.colab.kernel.accessAllowed ? 'block' : 'none';\n",
              "\n",
              "        async function convertToInteractive(key) {\n",
              "          const element = document.querySelector('#df-cb08bdf0-eac7-4423-ba83-fe40b083d4a3');\n",
              "          const dataTable =\n",
              "            await google.colab.kernel.invokeFunction('convertToInteractive',\n",
              "                                                     [key], {});\n",
              "          if (!dataTable) return;\n",
              "\n",
              "          const docLinkHtml = 'Like what you see? Visit the ' +\n",
              "            '<a target=\"_blank\" href=https://colab.research.google.com/notebooks/data_table.ipynb>data table notebook</a>'\n",
              "            + ' to learn more about interactive tables.';\n",
              "          element.innerHTML = '';\n",
              "          dataTable['output_type'] = 'display_data';\n",
              "          await google.colab.output.renderOutput(dataTable, element);\n",
              "          const docLink = document.createElement('div');\n",
              "          docLink.innerHTML = docLinkHtml;\n",
              "          element.appendChild(docLink);\n",
              "        }\n",
              "      </script>\n",
              "    </div>\n",
              "  </div>\n",
              "  "
            ]
          },
          "metadata": {},
          "execution_count": 3
        }
      ]
    },
    {
      "cell_type": "code",
      "source": [
        "samples_n = len(df) // 24 # divide by hours in a day\n",
        "\n",
        "data = []\n",
        "for i in range(samples_n):\n",
        "  data.append(np.reshape(np.array(df[i*24:(i+1)*24][['soc']].values), 24))\n",
        "\n",
        "data = np.array(data)"
      ],
      "metadata": {
        "id": "Lc5eZfRy2liB"
      },
      "execution_count": null,
      "outputs": []
    },
    {
      "cell_type": "code",
      "source": [
        "data.shape"
      ],
      "metadata": {
        "colab": {
          "base_uri": "https://localhost:8080/"
        },
        "id": "gkZDlqfc2mW8",
        "outputId": "2db56b25-65e1-4ebf-e8f2-730e78947860"
      },
      "execution_count": null,
      "outputs": [
        {
          "output_type": "execute_result",
          "data": {
            "text/plain": [
              "(3000, 24)"
            ]
          },
          "metadata": {},
          "execution_count": 5
        }
      ]
    },
    {
      "cell_type": "markdown",
      "source": [
        "So, we have 3000 samples (3000 days) for 100 different cars (every 30 samples in a row - one car).\n",
        "\n",
        "We have 24 features - each hour is a feature."
      ],
      "metadata": {
        "id": "BWwviDtw5ICF"
      }
    },
    {
      "cell_type": "code",
      "source": [
        "# visualize an example \n",
        "plt.title(\"State of charge during the 1st day\")\n",
        "plt.xlabel('Time (hour)')\n",
        "plt.ylabel('State of charge (kWh)')\n",
        "plt.plot(data[0])"
      ],
      "metadata": {
        "colab": {
          "base_uri": "https://localhost:8080/",
          "height": 490
        },
        "id": "ZY6aHS1GXJwf",
        "outputId": "d9957f79-1010-4be8-c3ce-bdad87a43f82"
      },
      "execution_count": null,
      "outputs": [
        {
          "output_type": "execute_result",
          "data": {
            "text/plain": [
              "[<matplotlib.lines.Line2D at 0x7f423b0a3220>]"
            ]
          },
          "metadata": {},
          "execution_count": 17
        },
        {
          "output_type": "display_data",
          "data": {
            "text/plain": [
              "<Figure size 640x480 with 1 Axes>"
            ],
            "image/png": "[encoded data removed]"
          },
          "metadata": {}
        }
      ]
    },
    {
      "cell_type": "markdown",
      "source": [
        "## Develop a prediction model that takes the last 24h of state-of-charge levels as an input and gives the prediction about the state-of-charge for the next 24 hours. (So, time series with 24 elements as an model input and the time series of 24 elements as an output). "
      ],
      "metadata": {
        "id": "FId7MT2czxkK"
      }
    },
    {
      "cell_type": "markdown",
      "source": [
        "We are working with sequential data → best option is to use Recurrent NN."
      ],
      "metadata": {
        "id": "VQpgjjZsDqLf"
      }
    },
    {
      "cell_type": "markdown",
      "source": [
        "We are creating a model that predicts new data based on previous day values.\n",
        "\n",
        "Split data in the following way:\n",
        "\n",
        "Train data: data of one day as X | data of the following day as Y\n",
        "\n",
        "Test data: data of one day as X | data of the following day as Y\n",
        "\n",
        "So, basically, state-of-charge values are used as input and labels in the same time: train_X[i] = soc[i], train_y[i] = soc[i+1]. For example, we have records for 1, 2 and 3 of March. Then, soc of the 2nd day is a label for the 1st day input, soc of the 3rd day is a label for the 2nd day input, and so on. "
      ],
      "metadata": {
        "id": "tjFDCNl8XbVa"
      }
    },
    {
      "cell_type": "markdown",
      "source": [
        "Here I won't use train_test_split function, because split depends on which car data belongs to: every 30th and 31th sample belongs to different cars. I am going to split data by days: train data 1-20 days, validation data 20-25 days, test data 25-30 days."
      ],
      "metadata": {
        "id": "yLhzQNUz6Htp"
      }
    },
    {
      "cell_type": "code",
      "source": [
        "train = []\n",
        "val =  []\n",
        "test = []\n",
        "\n",
        "# preprosessing data: splitting into train, val and test sets\n",
        "counter = 0\n",
        "for i in range(len(data)):\n",
        "  counter += 1\n",
        "  if 1 <= counter <= 20:\n",
        "    train.append(data[i])\n",
        "  elif 20 <= counter <= 25:\n",
        "    val.append(data[i])\n",
        "  else:\n",
        "    test.append(data[i])\n",
        "\n",
        "  if counter == 30:\n",
        "    counter = 0\n",
        "\n",
        "train = np.array(train)\n",
        "val = np.array(val)\n",
        "test = np.array(test)\n",
        "print(train.shape, val.shape, test.shape)"
      ],
      "metadata": {
        "colab": {
          "base_uri": "https://localhost:8080/"
        },
        "id": "UA2l5ON65pkY",
        "outputId": "67576765-ee0e-4d49-9acb-bd2eff5398fa"
      },
      "execution_count": null,
      "outputs": [
        {
          "output_type": "stream",
          "name": "stdout",
          "text": [
            "(2000, 24) (500, 24) (500, 24)\n"
          ]
        }
      ]
    },
    {
      "cell_type": "markdown",
      "source": [
        "Now I am going to create labels for data.\n",
        "\n",
        "For each day labels are data from the following day."
      ],
      "metadata": {
        "id": "RXtUK4w_7fFj"
      }
    },
    {
      "cell_type": "code",
      "source": [
        "X_train = []\n",
        "y_train = []\n",
        "#jump_count_train = 0\n",
        "for i in range(len(train)-1):\n",
        "  # here we jump from one car to another\n",
        "  # if don't jump, then data from other car will be labels to another car data\n",
        "  if i%25==0:\n",
        "    #jump_count_train += 1\n",
        "    continue\n",
        "  X_train.append(train[i])\n",
        "  y_train.append(train[i+1])\n",
        "\n",
        "\n",
        "X_val = []\n",
        "y_val = []\n",
        "\n",
        "for i in range(len(val)-1):\n",
        "  if i%5==0:\n",
        "    continue\n",
        "  X_val.append(val[i])\n",
        "  y_val.append(val[i+1])\n",
        "\n",
        "\n",
        "X_test = []\n",
        "y_test = []\n",
        "#jump_count_test = 0\n",
        "for i in range(len(test)-1):\n",
        "  if i%5==0:\n",
        "    #jump_count_test += 1\n",
        "    continue\n",
        "  X_test.append(test[i])\n",
        "  y_test.append(test[i+1])\n",
        "\n",
        "X_train = np.array(X_train)\n",
        "X_val = np.array(X_val)\n",
        "X_test = np.array(X_test)\n",
        "\n",
        "y_train = np.array(y_train)\n",
        "y_val = np.array(y_val)\n",
        "y_test = np.array(y_test)\n",
        "print(X_train.shape, y_train.shape, X_val.shape, y_val.shape, X_test.shape, y_test.shape)\n",
        "#print(jump_count_train, jump_count_test) # must be 100 jumps for each split"
      ],
      "metadata": {
        "colab": {
          "base_uri": "https://localhost:8080/"
        },
        "id": "-P14Juit5pYS",
        "outputId": "79719850-97ae-401c-c18d-bfad60608626"
      },
      "execution_count": null,
      "outputs": [
        {
          "output_type": "stream",
          "name": "stdout",
          "text": [
            "(1919, 24) (1919, 24) (399, 24) (399, 24) (399, 24) (399, 24)\n"
          ]
        }
      ]
    },
    {
      "cell_type": "markdown",
      "source": [
        "Normalize data to increase convergence rate in RNN:"
      ],
      "metadata": {
        "id": "5IkxkLVVMsoD"
      }
    },
    {
      "cell_type": "code",
      "source": [
        "from sklearn.preprocessing import MinMaxScaler\n",
        "scaler = MinMaxScaler(feature_range=(0, 1))\n",
        "X_train_norm = scaler.fit_transform(X_train)\n",
        "y_train_norm = scaler.fit_transform(y_train)\n",
        "X_val_norm = scaler.fit_transform(X_val)\n",
        "y_val_norm = scaler.fit_transform(y_val)\n",
        "X_test_norm = scaler.fit_transform(X_test)\n",
        "y_test_norm = scaler.fit_transform(y_test)"
      ],
      "metadata": {
        "id": "WMLXzPMIMr_1"
      },
      "execution_count": null,
      "outputs": []
    },
    {
      "cell_type": "markdown",
      "source": [
        "And, finally, training the model:"
      ],
      "metadata": {
        "id": "JaSkZKCRHgfV"
      }
    },
    {
      "cell_type": "code",
      "source": [
        "import tensorflow as tf\n",
        "from tensorflow import keras\n",
        "from tensorflow.keras import layers\n",
        "\n",
        "tf.random.set_seed(42)\n",
        "\n",
        "inputs = layers.Input(shape=X_train[0].shape)\n",
        "x = layers.Lambda(lambda x: tf.expand_dims(x, axis=1))(inputs)\n",
        "x = layers.LSTM(1500, return_sequences=True)(x)\n",
        "x = layers.LSTM(1000, activation=\"relu\")(x)\n",
        "output = layers.Dense(24)(x)\n",
        "\n",
        "model = tf.keras.Model(inputs=inputs, outputs=output)\n",
        "\n",
        "# Compile model\n",
        "model.compile(loss='mse', optimizer=tf.keras.optimizers.Adam(learning_rate=1e-3))\n",
        "\n",
        "# Fit model\n",
        "model.fit(X_train_norm,\n",
        "          y_train_norm,\n",
        "          epochs=100,\n",
        "          verbose=1,\n",
        "          batch_size=200,\n",
        "          validation_data=(X_val_norm, y_val_norm))"
      ],
      "metadata": {
        "colab": {
          "base_uri": "https://localhost:8080/"
        },
        "id": "2XZYVDhJ-rF9",
        "outputId": "ab61850c-88f9-4333-d465-703132eeb511"
      },
      "execution_count": null,
      "outputs": [
        {
          "output_type": "stream",
          "name": "stdout",
          "text": [
            "Epoch 1/100\n",
            "10/10 [==============================] - 9s 527ms/step - loss: 0.2706 - val_loss: 0.1446\n",
            "Epoch 2/100\n",
            "10/10 [==============================] - 5s 520ms/step - loss: 0.0581 - val_loss: 0.0551\n",
            "Epoch 3/100\n",
            "10/10 [==============================] - 5s 469ms/step - loss: 0.0344 - val_loss: 0.0381\n",
            "Epoch 4/100\n",
            "10/10 [==============================] - 5s 457ms/step - loss: 0.0278 - val_loss: 0.0376\n",
            "Epoch 5/100\n",
            "10/10 [==============================] - 5s 549ms/step - loss: 0.0254 - val_loss: 0.0363\n",
            "Epoch 6/100\n",
            "10/10 [==============================] - 5s 465ms/step - loss: 0.0244 - val_loss: 0.0371\n",
            "Epoch 7/100\n",
            "10/10 [==============================] - 5s 537ms/step - loss: 0.0241 - val_loss: 0.0359\n",
            "Epoch 8/100\n",
            "10/10 [==============================] - 5s 459ms/step - loss: 0.0239 - val_loss: 0.0366\n",
            "Epoch 9/100\n",
            "10/10 [==============================] - 5s 457ms/step - loss: 0.0239 - val_loss: 0.0358\n",
            "Epoch 10/100\n",
            "10/10 [==============================] - 8s 789ms/step - loss: 0.0238 - val_loss: 0.0357\n",
            "Epoch 11/100\n",
            "10/10 [==============================] - 5s 476ms/step - loss: 0.0236 - val_loss: 0.0365\n",
            "Epoch 12/100\n",
            "10/10 [==============================] - 6s 567ms/step - loss: 0.0234 - val_loss: 0.0356\n",
            "Epoch 13/100\n",
            "10/10 [==============================] - 5s 469ms/step - loss: 0.0232 - val_loss: 0.0354\n",
            "Epoch 14/100\n",
            "10/10 [==============================] - 6s 558ms/step - loss: 0.0228 - val_loss: 0.0354\n",
            "Epoch 15/100\n",
            "10/10 [==============================] - 5s 478ms/step - loss: 0.0223 - val_loss: 0.0350\n",
            "Epoch 16/100\n",
            "10/10 [==============================] - 5s 487ms/step - loss: 0.0219 - val_loss: 0.0347\n",
            "Epoch 17/100\n",
            "10/10 [==============================] - 6s 592ms/step - loss: 0.0214 - val_loss: 0.0350\n",
            "Epoch 18/100\n",
            "10/10 [==============================] - 5s 478ms/step - loss: 0.0212 - val_loss: 0.0353\n",
            "Epoch 19/100\n",
            "10/10 [==============================] - 5s 556ms/step - loss: 0.0211 - val_loss: 0.0348\n",
            "Epoch 20/100\n",
            "10/10 [==============================] - 5s 464ms/step - loss: 0.0211 - val_loss: 0.0345\n",
            "Epoch 21/100\n",
            "10/10 [==============================] - 5s 553ms/step - loss: 0.0212 - val_loss: 0.0344\n",
            "Epoch 22/100\n",
            "10/10 [==============================] - 5s 465ms/step - loss: 0.0209 - val_loss: 0.0352\n",
            "Epoch 23/100\n",
            "10/10 [==============================] - 5s 462ms/step - loss: 0.0210 - val_loss: 0.0347\n",
            "Epoch 24/100\n",
            "10/10 [==============================] - 5s 524ms/step - loss: 0.0207 - val_loss: 0.0348\n",
            "Epoch 25/100\n",
            "10/10 [==============================] - 5s 467ms/step - loss: 0.0207 - val_loss: 0.0344\n",
            "Epoch 26/100\n",
            "10/10 [==============================] - 5s 546ms/step - loss: 0.0206 - val_loss: 0.0336\n",
            "Epoch 27/100\n",
            "10/10 [==============================] - 5s 459ms/step - loss: 0.0206 - val_loss: 0.0336\n",
            "Epoch 28/100\n",
            "10/10 [==============================] - 5s 501ms/step - loss: 0.0206 - val_loss: 0.0334\n",
            "Epoch 29/100\n",
            "10/10 [==============================] - 5s 470ms/step - loss: 0.0202 - val_loss: 0.0342\n",
            "Epoch 30/100\n",
            "10/10 [==============================] - 5s 474ms/step - loss: 0.0200 - val_loss: 0.0336\n",
            "Epoch 31/100\n",
            "10/10 [==============================] - 5s 550ms/step - loss: 0.0200 - val_loss: 0.0341\n",
            "Epoch 32/100\n",
            "10/10 [==============================] - 5s 458ms/step - loss: 0.0200 - val_loss: 0.0345\n",
            "Epoch 33/100\n",
            "10/10 [==============================] - 5s 527ms/step - loss: 0.0202 - val_loss: 0.0353\n",
            "Epoch 34/100\n",
            "10/10 [==============================] - 5s 468ms/step - loss: 0.0201 - val_loss: 0.0345\n",
            "Epoch 35/100\n",
            "10/10 [==============================] - 5s 470ms/step - loss: 0.0203 - val_loss: 0.0333\n",
            "Epoch 36/100\n",
            "10/10 [==============================] - 5s 549ms/step - loss: 0.0199 - val_loss: 0.0332\n",
            "Epoch 37/100\n",
            "10/10 [==============================] - 5s 467ms/step - loss: 0.0199 - val_loss: 0.0339\n",
            "Epoch 38/100\n",
            "10/10 [==============================] - 5s 554ms/step - loss: 0.0196 - val_loss: 0.0333\n",
            "Epoch 39/100\n",
            "10/10 [==============================] - 5s 457ms/step - loss: 0.0196 - val_loss: 0.0332\n",
            "Epoch 40/100\n",
            "10/10 [==============================] - 5s 476ms/step - loss: 0.0195 - val_loss: 0.0332\n",
            "Epoch 41/100\n",
            "10/10 [==============================] - 5s 548ms/step - loss: 0.0194 - val_loss: 0.0333\n",
            "Epoch 42/100\n",
            "10/10 [==============================] - 5s 469ms/step - loss: 0.0194 - val_loss: 0.0335\n",
            "Epoch 43/100\n",
            "10/10 [==============================] - 5s 555ms/step - loss: 0.0195 - val_loss: 0.0329\n",
            "Epoch 44/100\n",
            "10/10 [==============================] - 5s 469ms/step - loss: 0.0193 - val_loss: 0.0331\n",
            "Epoch 45/100\n",
            "10/10 [==============================] - 5s 463ms/step - loss: 0.0193 - val_loss: 0.0330\n",
            "Epoch 46/100\n",
            "10/10 [==============================] - 5s 519ms/step - loss: 0.0193 - val_loss: 0.0337\n",
            "Epoch 47/100\n",
            "10/10 [==============================] - 5s 463ms/step - loss: 0.0193 - val_loss: 0.0324\n",
            "Epoch 48/100\n",
            "10/10 [==============================] - 5s 552ms/step - loss: 0.0192 - val_loss: 0.0334\n",
            "Epoch 49/100\n",
            "10/10 [==============================] - 5s 463ms/step - loss: 0.0192 - val_loss: 0.0332\n",
            "Epoch 50/100\n",
            "10/10 [==============================] - 5s 483ms/step - loss: 0.0192 - val_loss: 0.0325\n",
            "Epoch 51/100\n",
            "10/10 [==============================] - 5s 496ms/step - loss: 0.0192 - val_loss: 0.0338\n",
            "Epoch 52/100\n",
            "10/10 [==============================] - 5s 450ms/step - loss: 0.0192 - val_loss: 0.0320\n",
            "Epoch 53/100\n",
            "10/10 [==============================] - 5s 541ms/step - loss: 0.0190 - val_loss: 0.0330\n",
            "Epoch 54/100\n",
            "10/10 [==============================] - 5s 465ms/step - loss: 0.0191 - val_loss: 0.0333\n",
            "Epoch 55/100\n",
            "10/10 [==============================] - 5s 500ms/step - loss: 0.0189 - val_loss: 0.0325\n",
            "Epoch 56/100\n",
            "10/10 [==============================] - 5s 489ms/step - loss: 0.0189 - val_loss: 0.0326\n",
            "Epoch 57/100\n",
            "10/10 [==============================] - 5s 456ms/step - loss: 0.0189 - val_loss: 0.0325\n",
            "Epoch 58/100\n",
            "10/10 [==============================] - 5s 546ms/step - loss: 0.0189 - val_loss: 0.0321\n",
            "Epoch 59/100\n",
            "10/10 [==============================] - 5s 468ms/step - loss: 0.0188 - val_loss: 0.0329\n",
            "Epoch 60/100\n",
            "10/10 [==============================] - 5s 555ms/step - loss: 0.0188 - val_loss: 0.0325\n",
            "Epoch 61/100\n",
            "10/10 [==============================] - 5s 461ms/step - loss: 0.0187 - val_loss: 0.0325\n",
            "Epoch 62/100\n",
            "10/10 [==============================] - 5s 467ms/step - loss: 0.0188 - val_loss: 0.0324\n",
            "Epoch 63/100\n",
            "10/10 [==============================] - 5s 541ms/step - loss: 0.0188 - val_loss: 0.0324\n",
            "Epoch 64/100\n",
            "10/10 [==============================] - 5s 464ms/step - loss: 0.0187 - val_loss: 0.0338\n",
            "Epoch 65/100\n",
            "10/10 [==============================] - 5s 554ms/step - loss: 0.0187 - val_loss: 0.0321\n",
            "Epoch 66/100\n",
            "10/10 [==============================] - 5s 458ms/step - loss: 0.0187 - val_loss: 0.0331\n",
            "Epoch 67/100\n",
            "10/10 [==============================] - 5s 465ms/step - loss: 0.0187 - val_loss: 0.0321\n",
            "Epoch 68/100\n",
            "10/10 [==============================] - 5s 548ms/step - loss: 0.0188 - val_loss: 0.0325\n",
            "Epoch 69/100\n",
            "10/10 [==============================] - 5s 458ms/step - loss: 0.0186 - val_loss: 0.0331\n",
            "Epoch 70/100\n",
            "10/10 [==============================] - 5s 550ms/step - loss: 0.0186 - val_loss: 0.0329\n",
            "Epoch 71/100\n",
            "10/10 [==============================] - 5s 469ms/step - loss: 0.0186 - val_loss: 0.0329\n",
            "Epoch 72/100\n",
            "10/10 [==============================] - 5s 480ms/step - loss: 0.0188 - val_loss: 0.0325\n",
            "Epoch 73/100\n",
            "10/10 [==============================] - 5s 497ms/step - loss: 0.0185 - val_loss: 0.0322\n",
            "Epoch 74/100\n",
            "10/10 [==============================] - 5s 461ms/step - loss: 0.0186 - val_loss: 0.0325\n",
            "Epoch 75/100\n",
            "10/10 [==============================] - 5s 550ms/step - loss: 0.0189 - val_loss: 0.0337\n",
            "Epoch 76/100\n",
            "10/10 [==============================] - 5s 462ms/step - loss: 0.0188 - val_loss: 0.0320\n",
            "Epoch 77/100\n",
            "10/10 [==============================] - 5s 514ms/step - loss: 0.0187 - val_loss: 0.0327\n",
            "Epoch 78/100\n",
            "10/10 [==============================] - 5s 466ms/step - loss: 0.0189 - val_loss: 0.0333\n",
            "Epoch 79/100\n",
            "10/10 [==============================] - 5s 459ms/step - loss: 0.0187 - val_loss: 0.0336\n",
            "Epoch 80/100\n",
            "10/10 [==============================] - 5s 560ms/step - loss: 0.0190 - val_loss: 0.0322\n",
            "Epoch 81/100\n",
            "10/10 [==============================] - 5s 466ms/step - loss: 0.0186 - val_loss: 0.0323\n",
            "Epoch 82/100\n",
            "10/10 [==============================] - 5s 555ms/step - loss: 0.0184 - val_loss: 0.0326\n",
            "Epoch 83/100\n",
            "10/10 [==============================] - 5s 468ms/step - loss: 0.0185 - val_loss: 0.0319\n",
            "Epoch 84/100\n",
            "10/10 [==============================] - 5s 470ms/step - loss: 0.0187 - val_loss: 0.0320\n",
            "Epoch 85/100\n",
            "10/10 [==============================] - 5s 558ms/step - loss: 0.0186 - val_loss: 0.0343\n",
            "Epoch 86/100\n",
            "10/10 [==============================] - 5s 471ms/step - loss: 0.0189 - val_loss: 0.0321\n",
            "Epoch 87/100\n",
            "10/10 [==============================] - 5s 546ms/step - loss: 0.0185 - val_loss: 0.0330\n",
            "Epoch 88/100\n",
            "10/10 [==============================] - 5s 462ms/step - loss: 0.0185 - val_loss: 0.0343\n",
            "Epoch 89/100\n",
            "10/10 [==============================] - 5s 461ms/step - loss: 0.0189 - val_loss: 0.0317\n",
            "Epoch 90/100\n",
            "10/10 [==============================] - 5s 522ms/step - loss: 0.0200 - val_loss: 0.0324\n",
            "Epoch 91/100\n",
            "10/10 [==============================] - 5s 461ms/step - loss: 0.0190 - val_loss: 0.0323\n",
            "Epoch 92/100\n",
            "10/10 [==============================] - 5s 554ms/step - loss: 0.0185 - val_loss: 0.0327\n",
            "Epoch 93/100\n",
            "10/10 [==============================] - 5s 454ms/step - loss: 0.0186 - val_loss: 0.0339\n",
            "Epoch 94/100\n",
            "10/10 [==============================] - 5s 472ms/step - loss: 0.0186 - val_loss: 0.0318\n",
            "Epoch 95/100\n",
            "10/10 [==============================] - 5s 507ms/step - loss: 0.0186 - val_loss: 0.0327\n",
            "Epoch 96/100\n",
            "10/10 [==============================] - 5s 462ms/step - loss: 0.0184 - val_loss: 0.0322\n",
            "Epoch 97/100\n",
            "10/10 [==============================] - 5s 553ms/step - loss: 0.0185 - val_loss: 0.0327\n",
            "Epoch 98/100\n",
            "10/10 [==============================] - 5s 473ms/step - loss: 0.0183 - val_loss: 0.0322\n",
            "Epoch 99/100\n",
            "10/10 [==============================] - 5s 510ms/step - loss: 0.0183 - val_loss: 0.0319\n",
            "Epoch 100/100\n",
            "10/10 [==============================] - 5s 486ms/step - loss: 0.0184 - val_loss: 0.0325\n"
          ]
        },
        {
          "output_type": "execute_result",
          "data": {
            "text/plain": [
              "<keras.callbacks.History at 0x7f423a78dd90>"
            ]
          },
          "metadata": {},
          "execution_count": 12
        }
      ]
    },
    {
      "cell_type": "markdown",
      "source": [
        "Having a look at losses, we observe quite high difference between train and validation dataset losses. It means that the model overfits on the training data."
      ],
      "metadata": {
        "id": "qIkUCg-QYh4e"
      }
    },
    {
      "cell_type": "code",
      "source": [
        "# evaluate on test data\n",
        "model.evaluate(X_test_norm, y_test_norm)\n",
        "y_pred = model.predict(X_test_norm)\n",
        "# we also need to revert predicted data\n",
        "y_pred = scaler.inverse_transform(y_pred)"
      ],
      "metadata": {
        "colab": {
          "base_uri": "https://localhost:8080/"
        },
        "id": "AkZtSm1y-rDp",
        "outputId": "caad9a8d-3275-4a1b-f302-61b4e9a3fe7e"
      },
      "execution_count": null,
      "outputs": [
        {
          "output_type": "stream",
          "name": "stdout",
          "text": [
            "13/13 [==============================] - 1s 48ms/step - loss: 0.0314\n",
            "13/13 [==============================] - 1s 52ms/step\n"
          ]
        }
      ]
    },
    {
      "cell_type": "code",
      "source": [
        "# visualize one nice example\n",
        "plt.plot(y_pred[5], label='Predicted next 24h data', color='red')\n",
        "plt.plot(y_test[5], label='Real next 24h data', color='green')\n",
        "plt.plot(X_test[5], label='Previous 24h data', color='grey')\n",
        "plt.legend()"
      ],
      "metadata": {
        "colab": {
          "base_uri": "https://localhost:8080/",
          "height": 448
        },
        "id": "DWDgkI2P-rBe",
        "outputId": "c736ed6d-98a0-44fa-d81f-5ce4e134fa40"
      },
      "execution_count": null,
      "outputs": [
        {
          "output_type": "execute_result",
          "data": {
            "text/plain": [
              "<matplotlib.legend.Legend at 0x7f423b0a9850>"
            ]
          },
          "metadata": {},
          "execution_count": 16
        },
        {
          "output_type": "display_data",
          "data": {
            "text/plain": [
              "<Figure size 640x480 with 1 Axes>"
            ],
            "image/png": "[encoded data removed]"
          },
          "metadata": {}
        }
      ]
    },
    {
      "cell_type": "markdown",
      "source": [
        "##Describe and explain the model selection (why did you use this model)? "
      ],
      "metadata": {
        "id": "d9tv8XjLz0dS"
      }
    },
    {
      "cell_type": "markdown",
      "source": [
        "I decided to use Recurrent NN Long Short-Term Memory (LSTM) model, as it is such a network that is usually used to predict sequential data.\n",
        "\n",
        "Data in the provided dataset is a sequence becase it consists of series of ordered events (series of 24 values, ordered events - 1st, 2nd, 3rd, etc. hours) - time series data."
      ],
      "metadata": {
        "id": "fY_Lk7d6V6aA"
      }
    },
    {
      "cell_type": "markdown",
      "source": [
        "##Envision how the results of this project could be packaged (describe the potential user or machine interface)?"
      ],
      "metadata": {
        "id": "4S1AZojQz2fj"
      }
    },
    {
      "cell_type": "markdown",
      "source": [
        "This information may be useful for several categories of people/companies:\n",
        "\n",
        "1. Owners of electronic vehicles. It may be useful to check battery charging level prediction before trips: it may make easier to plan where and when charge a vehicle.\n",
        "\n",
        "Interface: integrate this info into car's mobile application (if there is any), or create a mobile app. One more convenient way to integrate this into vehicle's electronic board panel (integrate predictions as a vehicle's parameter that is shown on the main driver panel). \n",
        "\n",
        "2. Energy providers and charging station providers. Having such predictions, they know when charge demand is high. Thus, they can optimize energy supply. Also, charging stations may consider this information while planning where to place new charning stations.\n",
        "\n",
        "Interface: Raw data that is intergrated/stored in companies' data applications/cloud services, which their data analysts can process."
      ],
      "metadata": {
        "id": "6QYbId8jSSK_"
      }
    }
  ]
}